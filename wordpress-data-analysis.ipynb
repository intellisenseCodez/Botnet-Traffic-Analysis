{
 "cells": [
  {
   "cell_type": "code",
   "execution_count": 1,
   "id": "0a4c38f3",
   "metadata": {},
   "outputs": [],
   "source": [
    "import numpy as np\n",
    "import pandas as pd\n",
    "import matplotlib.pyplot as plt"
   ]
  },
  {
   "cell_type": "code",
   "execution_count": 2,
   "id": "a4205567",
   "metadata": {},
   "outputs": [],
   "source": [
    "# read data\n",
    "df = pd.read_csv('./datasets/wordpress data/Wordpress DDOS attack Logs.txt',delimiter=\",\")"
   ]
  },
  {
   "cell_type": "code",
   "execution_count": 3,
   "id": "b93aec2f",
   "metadata": {},
   "outputs": [
    {
     "data": {
      "text/html": [
       "<div>\n",
       "<style scoped>\n",
       "    .dataframe tbody tr th:only-of-type {\n",
       "        vertical-align: middle;\n",
       "    }\n",
       "\n",
       "    .dataframe tbody tr th {\n",
       "        vertical-align: top;\n",
       "    }\n",
       "\n",
       "    .dataframe thead th {\n",
       "        text-align: right;\n",
       "    }\n",
       "</style>\n",
       "<table border=\"1\" class=\"dataframe\">\n",
       "  <thead>\n",
       "    <tr style=\"text-align: right;\">\n",
       "      <th></th>\n",
       "      <th>188.121.41.140 - - [23/Sep/2013:13:02:47 +0200] \"GET / HTTP/1.1\" 200 8955 \"-\" \"WordPress/3.0.2; http://www.cakefantasia.com\"</th>\n",
       "    </tr>\n",
       "  </thead>\n",
       "  <tbody>\n",
       "    <tr>\n",
       "      <th>0</th>\n",
       "      <td>81.169.144.135 - - [23/Sep/2013:13:02:47 +0200...</td>\n",
       "    </tr>\n",
       "    <tr>\n",
       "      <th>1</th>\n",
       "      <td>91.184.18.50 - - [23/Sep/2013:13:02:47 +0200] ...</td>\n",
       "    </tr>\n",
       "    <tr>\n",
       "      <th>2</th>\n",
       "      <td>184.154.224.17 - - [23/Sep/2013:13:02:47 +0200...</td>\n",
       "    </tr>\n",
       "    <tr>\n",
       "      <th>3</th>\n",
       "      <td>209.15.245.58 - - [23/Sep/2013:13:02:47 +0200]...</td>\n",
       "    </tr>\n",
       "    <tr>\n",
       "      <th>4</th>\n",
       "      <td>66.96.183.15 - - [23/Sep/2013:13:02:47 +0200] ...</td>\n",
       "    </tr>\n",
       "  </tbody>\n",
       "</table>\n",
       "</div>"
      ],
      "text/plain": [
       "  188.121.41.140 - - [23/Sep/2013:13:02:47 +0200] \"GET / HTTP/1.1\" 200 8955 \"-\" \"WordPress/3.0.2; http://www.cakefantasia.com\"\n",
       "0  81.169.144.135 - - [23/Sep/2013:13:02:47 +0200...                                                                          \n",
       "1  91.184.18.50 - - [23/Sep/2013:13:02:47 +0200] ...                                                                          \n",
       "2  184.154.224.17 - - [23/Sep/2013:13:02:47 +0200...                                                                          \n",
       "3  209.15.245.58 - - [23/Sep/2013:13:02:47 +0200]...                                                                          \n",
       "4  66.96.183.15 - - [23/Sep/2013:13:02:47 +0200] ...                                                                          "
      ]
     },
     "execution_count": 3,
     "metadata": {},
     "output_type": "execute_result"
    }
   ],
   "source": [
    "df.head(5)"
   ]
  },
  {
   "cell_type": "code",
   "execution_count": 4,
   "id": "cd91280f",
   "metadata": {},
   "outputs": [],
   "source": [
    "df.columns = [\"IP\"]"
   ]
  },
  {
   "cell_type": "code",
   "execution_count": 5,
   "id": "02842e9b",
   "metadata": {},
   "outputs": [
    {
     "data": {
      "text/plain": [
       "'81.169.144.135 - - [23/Sep/2013:13:02:47 +0200] \"GET / HTTP/1.1\" 200 8955 \"-\" \"WordPress/3.6.1; http://aifs2.pvdveen.net\"'"
      ]
     },
     "execution_count": 5,
     "metadata": {},
     "output_type": "execute_result"
    }
   ],
   "source": [
    "df[\"IP\"][0]"
   ]
  },
  {
   "cell_type": "code",
   "execution_count": 6,
   "id": "8cf60b83",
   "metadata": {},
   "outputs": [
    {
     "data": {
      "text/plain": [
       "13"
      ]
     },
     "execution_count": 6,
     "metadata": {},
     "output_type": "execute_result"
    }
   ],
   "source": [
    "len(df[\"IP\"][0].split(\" \"))"
   ]
  },
  {
   "cell_type": "code",
   "execution_count": 7,
   "id": "f5978ff8",
   "metadata": {},
   "outputs": [
    {
     "data": {
      "text/plain": [
       "13"
      ]
     },
     "execution_count": 7,
     "metadata": {},
     "output_type": "execute_result"
    }
   ],
   "source": [
    "len(df['IP'][1].split(\" \"))"
   ]
  },
  {
   "cell_type": "code",
   "execution_count": 8,
   "id": "27aa4855",
   "metadata": {},
   "outputs": [
    {
     "data": {
      "text/plain": [
       "['184.154.224.17',\n",
       " '-',\n",
       " '-',\n",
       " '[23/Sep/2013:13:02:47',\n",
       " '+0200]',\n",
       " '\"GET',\n",
       " '/',\n",
       " 'HTTP/1.1\"',\n",
       " '200',\n",
       " '8955',\n",
       " '\"-\"',\n",
       " '\"WordPress/3.6;',\n",
       " 'http://photekusa.com\"']"
      ]
     },
     "execution_count": 8,
     "metadata": {},
     "output_type": "execute_result"
    }
   ],
   "source": [
    "df['IP'][2].split(\" \")"
   ]
  },
  {
   "cell_type": "code",
   "execution_count": 9,
   "id": "702d4282",
   "metadata": {},
   "outputs": [],
   "source": [
    "ip_col = []\n",
    "date_col = []\n",
    "url_col = []\n",
    "port_col = []\n",
    "status_col = []\n",
    "for d in df[\"IP\"]:\n",
    "    ip_col.append(d.split(\" \")[0])\n",
    "    port_col.append(d.split(\" \")[-4])\n",
    "    date_col.append(d.split(\" \")[3])\n",
    "    url_col.append(d.split(\" \")[-1])\n",
    "    status_col.append(d.split(\" \")[-5])\n",
    "    \n",
    "# print(url_col)\n",
    "# print(date_col)\n",
    "# print(url_col)\n",
    "# print(port_col)\n",
    "# print(status_col)"
   ]
  },
  {
   "cell_type": "code",
   "execution_count": 10,
   "id": "d315cdc1",
   "metadata": {},
   "outputs": [],
   "source": [
    "new_data = {\n",
    "    \"IP\":ip_col,\n",
    "    \"Date\": date_col,\n",
    "    \"Port\": port_col,\n",
    "    \"URL\": url_col\n",
    "}\n",
    "clean_df = pd.DataFrame(new_data)"
   ]
  },
  {
   "cell_type": "code",
   "execution_count": 11,
   "id": "6bf13ab2",
   "metadata": {},
   "outputs": [
    {
     "data": {
      "text/html": [
       "<div>\n",
       "<style scoped>\n",
       "    .dataframe tbody tr th:only-of-type {\n",
       "        vertical-align: middle;\n",
       "    }\n",
       "\n",
       "    .dataframe tbody tr th {\n",
       "        vertical-align: top;\n",
       "    }\n",
       "\n",
       "    .dataframe thead th {\n",
       "        text-align: right;\n",
       "    }\n",
       "</style>\n",
       "<table border=\"1\" class=\"dataframe\">\n",
       "  <thead>\n",
       "    <tr style=\"text-align: right;\">\n",
       "      <th></th>\n",
       "      <th>IP</th>\n",
       "      <th>Date</th>\n",
       "      <th>Port</th>\n",
       "      <th>URL</th>\n",
       "    </tr>\n",
       "  </thead>\n",
       "  <tbody>\n",
       "    <tr>\n",
       "      <th>0</th>\n",
       "      <td>81.169.144.135</td>\n",
       "      <td>[23/Sep/2013:13:02:47</td>\n",
       "      <td>8955</td>\n",
       "      <td>http://aifs2.pvdveen.net\"</td>\n",
       "    </tr>\n",
       "    <tr>\n",
       "      <th>1</th>\n",
       "      <td>91.184.18.50</td>\n",
       "      <td>[23/Sep/2013:13:02:47</td>\n",
       "      <td>8955</td>\n",
       "      <td>http://sociedia.com\"</td>\n",
       "    </tr>\n",
       "    <tr>\n",
       "      <th>2</th>\n",
       "      <td>184.154.224.17</td>\n",
       "      <td>[23/Sep/2013:13:02:47</td>\n",
       "      <td>8955</td>\n",
       "      <td>http://photekusa.com\"</td>\n",
       "    </tr>\n",
       "    <tr>\n",
       "      <th>3</th>\n",
       "      <td>209.15.245.58</td>\n",
       "      <td>[23/Sep/2013:13:02:47</td>\n",
       "      <td>8955</td>\n",
       "      <td>http://enabledkids.ca\"</td>\n",
       "    </tr>\n",
       "    <tr>\n",
       "      <th>4</th>\n",
       "      <td>66.96.183.15</td>\n",
       "      <td>[23/Sep/2013:13:02:47</td>\n",
       "      <td>8955</td>\n",
       "      <td>http://guyana-tourism.com/blog\"</td>\n",
       "    </tr>\n",
       "    <tr>\n",
       "      <th>...</th>\n",
       "      <td>...</td>\n",
       "      <td>...</td>\n",
       "      <td>...</td>\n",
       "      <td>...</td>\n",
       "    </tr>\n",
       "    <tr>\n",
       "      <th>563</th>\n",
       "      <td>216.201.128.7</td>\n",
       "      <td>[23/Sep/2013:13:03:13</td>\n",
       "      <td>913</td>\n",
       "      <td>http://www.theleadernews.com\"</td>\n",
       "    </tr>\n",
       "    <tr>\n",
       "      <th>564</th>\n",
       "      <td>130.185.84.2</td>\n",
       "      <td>[23/Sep/2013:13:03:13</td>\n",
       "      <td>913</td>\n",
       "      <td>http://www.gerirepoupar.com/jovens\"</td>\n",
       "    </tr>\n",
       "    <tr>\n",
       "      <th>565</th>\n",
       "      <td>142.4.38.98</td>\n",
       "      <td>[23/Sep/2013:13:03:13</td>\n",
       "      <td>913</td>\n",
       "      <td>http://caithatescake.com\"</td>\n",
       "    </tr>\n",
       "    <tr>\n",
       "      <th>566</th>\n",
       "      <td>184.154.225.8</td>\n",
       "      <td>[23/Sep/2013:13:03:13</td>\n",
       "      <td>913</td>\n",
       "      <td>http://diglitny.org/blog\"</td>\n",
       "    </tr>\n",
       "    <tr>\n",
       "      <th>567</th>\n",
       "      <td>69.163.225.185</td>\n",
       "      <td>[23/Sep/2013:13:03:13</td>\n",
       "      <td>913</td>\n",
       "      <td>http://www.thehtc.ca\"</td>\n",
       "    </tr>\n",
       "  </tbody>\n",
       "</table>\n",
       "<p>568 rows × 4 columns</p>\n",
       "</div>"
      ],
      "text/plain": [
       "                 IP                   Date  Port  \\\n",
       "0    81.169.144.135  [23/Sep/2013:13:02:47  8955   \n",
       "1      91.184.18.50  [23/Sep/2013:13:02:47  8955   \n",
       "2    184.154.224.17  [23/Sep/2013:13:02:47  8955   \n",
       "3     209.15.245.58  [23/Sep/2013:13:02:47  8955   \n",
       "4      66.96.183.15  [23/Sep/2013:13:02:47  8955   \n",
       "..              ...                    ...   ...   \n",
       "563   216.201.128.7  [23/Sep/2013:13:03:13   913   \n",
       "564    130.185.84.2  [23/Sep/2013:13:03:13   913   \n",
       "565     142.4.38.98  [23/Sep/2013:13:03:13   913   \n",
       "566   184.154.225.8  [23/Sep/2013:13:03:13   913   \n",
       "567  69.163.225.185  [23/Sep/2013:13:03:13   913   \n",
       "\n",
       "                                     URL  \n",
       "0              http://aifs2.pvdveen.net\"  \n",
       "1                   http://sociedia.com\"  \n",
       "2                  http://photekusa.com\"  \n",
       "3                 http://enabledkids.ca\"  \n",
       "4        http://guyana-tourism.com/blog\"  \n",
       "..                                   ...  \n",
       "563        http://www.theleadernews.com\"  \n",
       "564  http://www.gerirepoupar.com/jovens\"  \n",
       "565            http://caithatescake.com\"  \n",
       "566            http://diglitny.org/blog\"  \n",
       "567                http://www.thehtc.ca\"  \n",
       "\n",
       "[568 rows x 4 columns]"
      ]
     },
     "execution_count": 11,
     "metadata": {},
     "output_type": "execute_result"
    }
   ],
   "source": [
    "clean_df"
   ]
  },
  {
   "cell_type": "code",
   "execution_count": 12,
   "id": "ca707902",
   "metadata": {},
   "outputs": [
    {
     "data": {
      "text/plain": [
       "IP      0\n",
       "Date    0\n",
       "Port    0\n",
       "URL     0\n",
       "dtype: int64"
      ]
     },
     "execution_count": 12,
     "metadata": {},
     "output_type": "execute_result"
    }
   ],
   "source": [
    "clean_df.isnull().sum()"
   ]
  },
  {
   "cell_type": "code",
   "execution_count": null,
   "id": "b60390f3",
   "metadata": {},
   "outputs": [],
   "source": []
  },
  {
   "cell_type": "code",
   "execution_count": null,
   "id": "9c69efef",
   "metadata": {},
   "outputs": [],
   "source": []
  },
  {
   "cell_type": "code",
   "execution_count": null,
   "id": "a7831d86",
   "metadata": {},
   "outputs": [],
   "source": []
  }
 ],
 "metadata": {
  "kernelspec": {
   "display_name": "Python 3 (ipykernel)",
   "language": "python",
   "name": "python3"
  },
  "language_info": {
   "codemirror_mode": {
    "name": "ipython",
    "version": 3
   },
   "file_extension": ".py",
   "mimetype": "text/x-python",
   "name": "python",
   "nbconvert_exporter": "python",
   "pygments_lexer": "ipython3",
   "version": "3.9.13"
  }
 },
 "nbformat": 4,
 "nbformat_minor": 5
}
